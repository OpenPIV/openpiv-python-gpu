{
 "cells": [
  {
   "cell_type": "code",
   "execution_count": 1,
   "metadata": {
    "tags": []
   },
   "outputs": [],
   "source": [
    "# %load test_tools.py\n",
    "from openpiv.tools import imread, save, display_vector_field\n",
    "from openpiv.pyprocess import extended_search_area_piv, get_coordinates\n",
    "import pathlib\n",
    "import numpy as np\n",
    "import matplotlib.pyplot as plt\n",
    "from matplotlib.testing import compare\n",
    "\n",
    "# np.seterr(all='raise')\n"
   ]
  },
  {
   "cell_type": "code",
   "execution_count": 2,
   "metadata": {},
   "outputs": [],
   "source": [
    "# test settings.pattern_a, b\n",
    "from openpiv.windef import PIVSettings\n",
    "from openpiv.tools import Multiprocesser\n",
    "\n"
   ]
  },
  {
   "cell_type": "code",
   "execution_count": 3,
   "metadata": {},
   "outputs": [
    {
     "name": "stdout",
     "output_type": "stream",
     "text": [
      "../data/test2 2image_00.tif 2image_01.tif\n"
     ]
    },
    {
     "data": {
      "text/plain": [
       "1"
      ]
     },
     "execution_count": 3,
     "metadata": {},
     "output_type": "execute_result"
    }
   ],
   "source": [
    "\n",
    "settings = PIVSettings()\n",
    "settings.filepath_images = pathlib.Path('../data/test2/')\n",
    "settings.frame_pattern_a = '2image_00.tif'\n",
    "settings.frame_pattern_b = '2image_01.tif'\n",
    "print(settings.filepath_images,settings.frame_pattern_a, settings.frame_pattern_b)\n",
    "\n",
    "multi = Multiprocesser(settings.filepath_images, settings.frame_pattern_a, settings.frame_pattern_b)\n",
    "multi.n_files"
   ]
  },
  {
   "cell_type": "code",
   "execution_count": 4,
   "metadata": {},
   "outputs": [
    {
     "name": "stdout",
     "output_type": "stream",
     "text": [
      "../data/test2 2image_*.tif (1+2),(3+4)\n",
      "Pair: ../data/test2/2image_00.tif-../data/test2/2image_01.tif\n",
      "Pair: ../data/test2/2image_10.tif-../data/test2/2image_11.tif\n",
      "Pair: ../data/test2/2image_20.tif-../data/test2/2image_21.tif\n",
      "Pair: ../data/test2/2image_30.tif-../data/test2/2image_31.tif\n",
      "Pair: ../data/test2/2image_40.tif-../data/test2/2image_41.tif\n",
      "Pair: ../data/test2/2image_50.tif-../data/test2/2image_51.tif\n"
     ]
    }
   ],
   "source": [
    "settings.frame_pattern_a = '2image_*.tif'\n",
    "settings.frame_pattern_b = '(1+2),(3+4)'\n",
    "print(settings.filepath_images,settings.frame_pattern_a, settings.frame_pattern_b)\n",
    "\n",
    "multi = Multiprocesser(settings.filepath_images, settings.frame_pattern_a, settings.frame_pattern_b)\n",
    "\n",
    "for (a,b) in zip(multi.files_a, multi.files_b):\n",
    "    print(f\"Pair: {a}-{b}\")\n"
   ]
  },
  {
   "cell_type": "code",
   "execution_count": 5,
   "metadata": {},
   "outputs": [
    {
     "name": "stdout",
     "output_type": "stream",
     "text": [
      "../data/test2 2image_*.tif (1+2),(2+3)\n",
      "Pair: ../data/test2/2image_00.tif-../data/test2/2image_01.tif\n",
      "Pair: ../data/test2/2image_01.tif-../data/test2/2image_10.tif\n",
      "Pair: ../data/test2/2image_10.tif-../data/test2/2image_11.tif\n",
      "Pair: ../data/test2/2image_11.tif-../data/test2/2image_20.tif\n",
      "Pair: ../data/test2/2image_20.tif-../data/test2/2image_21.tif\n",
      "Pair: ../data/test2/2image_21.tif-../data/test2/2image_30.tif\n",
      "Pair: ../data/test2/2image_30.tif-../data/test2/2image_31.tif\n",
      "Pair: ../data/test2/2image_31.tif-../data/test2/2image_40.tif\n",
      "Pair: ../data/test2/2image_40.tif-../data/test2/2image_41.tif\n",
      "Pair: ../data/test2/2image_41.tif-../data/test2/2image_50.tif\n",
      "Pair: ../data/test2/2image_50.tif-../data/test2/2image_51.tif\n"
     ]
    }
   ],
   "source": [
    "settings.frame_pattern_a = '2image_*.tif'\n",
    "settings.frame_pattern_b = '(1+2),(2+3)'\n",
    "print(settings.filepath_images,settings.frame_pattern_a, settings.frame_pattern_b)\n",
    "\n",
    "multi = Multiprocesser(settings.filepath_images, settings.frame_pattern_a, settings.frame_pattern_b)\n",
    "\n",
    "for (a,b) in zip(multi.files_a, multi.files_b):\n",
    "    print(f\"Pair: {a}-{b}\")"
   ]
  },
  {
   "cell_type": "code",
   "execution_count": 6,
   "metadata": {
    "tags": []
   },
   "outputs": [
    {
     "name": "stdout",
     "output_type": "stream",
     "text": [
      "../data/test2 2image_*.tif (1+3),(2+4)\n",
      "Pair: ../data/test2/2image_00.tif-../data/test2/2image_10.tif\n",
      "Pair: ../data/test2/2image_01.tif-../data/test2/2image_11.tif\n",
      "Pair: ../data/test2/2image_10.tif-../data/test2/2image_20.tif\n",
      "Pair: ../data/test2/2image_11.tif-../data/test2/2image_21.tif\n",
      "Pair: ../data/test2/2image_20.tif-../data/test2/2image_30.tif\n",
      "Pair: ../data/test2/2image_21.tif-../data/test2/2image_31.tif\n",
      "Pair: ../data/test2/2image_30.tif-../data/test2/2image_40.tif\n",
      "Pair: ../data/test2/2image_31.tif-../data/test2/2image_41.tif\n",
      "Pair: ../data/test2/2image_40.tif-../data/test2/2image_50.tif\n",
      "Pair: ../data/test2/2image_41.tif-../data/test2/2image_51.tif\n"
     ]
    }
   ],
   "source": [
    "settings.frame_pattern_a = '2image_*.tif'\n",
    "settings.frame_pattern_b = '(1+3),(2+4)'\n",
    "print(settings.filepath_images,settings.frame_pattern_a, settings.frame_pattern_b)\n",
    "\n",
    "multi = Multiprocesser(settings.filepath_images, settings.frame_pattern_a, settings.frame_pattern_b)\n",
    "\n",
    "for (a,b) in zip(multi.files_a, multi.files_b):\n",
    "    print(f\"Pair: {a}-{b}\")"
   ]
  },
  {
   "cell_type": "code",
   "execution_count": 7,
   "metadata": {
    "tags": []
   },
   "outputs": [
    {
     "name": "stdout",
     "output_type": "stream",
     "text": [
      "../data/test5 Pattern*_A.tif Pattern*_B.tif\n",
      "Number of files is 10\n",
      "Pair: ../data/test5/Pattern_1_A.tif-../data/test5/Pattern_1_B.tif\n",
      "Pair: ../data/test5/Pattern_2_A.tif-../data/test5/Pattern_2_B.tif\n",
      "Pair: ../data/test5/Pattern_3_A.tif-../data/test5/Pattern_3_B.tif\n",
      "Pair: ../data/test5/Pattern_4_A.tif-../data/test5/Pattern_4_B.tif\n",
      "Pair: ../data/test5/Pattern_5_A.tif-../data/test5/Pattern_5_B.tif\n",
      "Pair: ../data/test5/Pattern_6_A.tif-../data/test5/Pattern_6_B.tif\n",
      "Pair: ../data/test5/Pattern_7_A.tif-../data/test5/Pattern_7_B.tif\n",
      "Pair: ../data/test5/Pattern_8_A.tif-../data/test5/Pattern_8_B.tif\n",
      "Pair: ../data/test5/Pattern_9_A.tif-../data/test5/Pattern_9_B.tif\n",
      "Pair: ../data/test5/Pattern_10_A.tif-../data/test5/Pattern_10_B.tif\n"
     ]
    }
   ],
   "source": [
    "settings = PIVSettings()\n",
    "settings.filepath_images = pathlib.Path('../data/test5')\n",
    "settings.frame_pattern_a = 'Pattern*_A.tif'\n",
    "settings.frame_pattern_b = 'Pattern*_B.tif'\n",
    "print(settings.filepath_images,settings.frame_pattern_a, settings.frame_pattern_b)\n",
    "\n",
    "multi = Multiprocesser(settings.filepath_images, settings.frame_pattern_a, settings.frame_pattern_b)\n",
    "print(f'Number of files is {multi.n_files}')\n",
    "\n",
    "for (a,b) in zip(multi.files_a, multi.files_b):\n",
    "    print(f\"Pair: {a}-{b}\")"
   ]
  },
  {
   "cell_type": "code",
   "execution_count": 8,
   "metadata": {
    "tags": []
   },
   "outputs": [
    {
     "name": "stdout",
     "output_type": "stream",
     "text": [
      "../data/test6 Pattern_*_A.tif Pattern_*_B.tif\n",
      "Number of files is 5\n",
      "Pair: ../data/test6/Pattern_0001_A.tif-../data/test6/Pattern_1001_B.tif\n",
      "Pair: ../data/test6/Pattern_0002_A.tif-../data/test6/Pattern_1002_B.tif\n",
      "Pair: ../data/test6/Pattern_0003_A.tif-../data/test6/Pattern_1003_B.tif\n",
      "Pair: ../data/test6/Pattern_0004_A.tif-../data/test6/Pattern_1004_B.tif\n",
      "Pair: ../data/test6/Pattern_0005_A.tif-../data/test6/Pattern_1005_B.tif\n"
     ]
    }
   ],
   "source": [
    "settings = PIVSettings()\n",
    "settings.filepath_images = pathlib.Path('../data/test6')\n",
    "settings.frame_pattern_a = 'Pattern_*_A.tif'\n",
    "settings.frame_pattern_b = 'Pattern_*_B.tif'\n",
    "print(settings.filepath_images,settings.frame_pattern_a, settings.frame_pattern_b)\n",
    "\n",
    "multi = Multiprocesser(settings.filepath_images, settings.frame_pattern_a, settings.frame_pattern_b)\n",
    "print(f'Number of files is {multi.n_files}')\n",
    "\n",
    "for (a,b) in zip(multi.files_a, multi.files_b):\n",
    "    print(f\"Pair: {a}-{b}\")"
   ]
  },
  {
   "cell_type": "code",
   "execution_count": null,
   "metadata": {},
   "outputs": [],
   "source": []
  }
 ],
 "metadata": {
  "kernelspec": {
   "display_name": "Python 3 (ipykernel)",
   "language": "python",
   "name": "python3"
  },
  "language_info": {
   "codemirror_mode": {
    "name": "ipython",
    "version": 3
   },
   "file_extension": ".py",
   "mimetype": "text/x-python",
   "name": "python",
   "nbconvert_exporter": "python",
   "pygments_lexer": "ipython3",
   "version": "3.11.0"
  },
  "vscode": {
   "interpreter": {
    "hash": "527f8b2821ddd06ad9de53fa6852824bf4860374cd5a0b7076d3fcd9bfd7fc9a"
   }
  }
 },
 "nbformat": 4,
 "nbformat_minor": 4
}
